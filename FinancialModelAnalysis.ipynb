{
 "cells": [
  {
   "cell_type": "markdown",
   "id": "9aeaf7fa",
   "metadata": {},
   "source": [
    "# Analisis Model Keuangan Perusahaan\n",
    "\n",
    "Notebook ini bertujuan untuk melakukan analisis keuangan perusahaan menggunakan beberapa model skor seperti Beneish M-Score, Altman Z-Score, dan rasio keuangan umum untuk penilaian risiko kredit."
   ]
  },
  {
   "cell_type": "markdown",
   "id": "74a9f52b",
   "metadata": {},
   "source": [
    "## 1. Setup dan Import Library"
   ]
  },
  {
   "cell_type": "code",
   "execution_count": 1,
   "id": "a9b6e0c3",
   "metadata": {},
   "outputs": [],
   "source": [
    "import json\n",
    "import sys\n",
    "import os\n",
    "\n",
    "# Tambahkan path ke direktori FinancialScoreModels jika notebook ini tidak berada di root yang sama\n",
    "# module_path = os.path.abspath(os.path.join('..')) # Jika notebook di dalam subfolder\n",
    "# if module_path not in sys.path:\n",
    "#     sys.path.append(module_path)\n",
    "\n",
    "from FinancialScoreModels.utils import load_financial_data\n",
    "from FinancialScoreModels.beneish_m_score import calculate_beneish_m_score\n",
    "from FinancialScoreModels.altman_z_score import calculate_altman_z_score\n",
    "from FinancialScoreModels.financial_ratios import calculate_common_financial_ratios"
   ]
  },
  {
   "cell_type": "markdown",
   "id": "c94c6eb6",
   "metadata": {},
   "source": [
    "## 2. Konfigurasi Path File Data Keuangan\n",
    "\n",
    "Atur path ke file JSON yang berisi hasil ekstraksi data keuangan untuk periode `t` (tahun berjalan) dan `t-1` (tahun sebelumnya)."
   ]
  },
  {
   "cell_type": "code",
   "execution_count": 2,
   "id": "0807811c",
   "metadata": {},
   "outputs": [],
   "source": [
    "FILE_PATH_T = \"Output/Sarana/hasil_ekstraksi_semua_dokumen.json\"\n",
    "FILE_PATH_T_MINUS_1 = \"Output/Sarana/hasil_ekstraksi_semua_dokumen_t_minus_1.json\""
   ]
  },
  {
   "cell_type": "markdown",
   "id": "f91585f4",
   "metadata": {},
   "source": [
    "## 3. Memuat Data Keuangan"
   ]
  },
  {
   "cell_type": "code",
   "execution_count": 3,
   "id": "0c6bc7c1",
   "metadata": {},
   "outputs": [
    {
     "name": "stdout",
     "output_type": "stream",
     "text": [
      "Memuat data keuangan dari: Output/Sarana/hasil_ekstraksi_semua_dokumen.json\n",
      "Memuat data keuangan dari: Output/Sarana/hasil_ekstraksi_semua_dokumen_t_minus_1.json\n",
      "\n",
      "Data Keuangan Periode t berhasil dimuat.\n",
      "\n",
      "Data Keuangan Periode t-1 berhasil dimuat.\n"
     ]
    }
   ],
   "source": [
    "print(f\"Memuat data keuangan dari: {FILE_PATH_T}\")\n",
    "data_t = load_financial_data(FILE_PATH_T)\n",
    "\n",
    "print(f\"Memuat data keuangan dari: {FILE_PATH_T_MINUS_1}\")\n",
    "data_t_minus_1 = load_financial_data(FILE_PATH_T_MINUS_1)\n",
    "\n",
    "if data_t:\n",
    "    print(\"\\nData Keuangan Periode t berhasil dimuat.\")\n",
    "    # print(json.dumps(data_t, indent=2, ensure_ascii=False))\n",
    "else:\n",
    "    print(\"\\nGagal memuat data keuangan periode t.\")\n",
    "\n",
    "if data_t_minus_1:\n",
    "    print(\"\\nData Keuangan Periode t-1 berhasil dimuat.\")\n",
    "    # print(json.dumps(data_t_minus_1, indent=2, ensure_ascii=False))\n",
    "else:\n",
    "    print(\"\\nGagal memuat data keuangan periode t-1.\")"
   ]
  },
  {
   "cell_type": "markdown",
   "id": "006ab128",
   "metadata": {},
   "source": [
    "## 4. Perhitungan Beneish M-Score\n",
    "\n",
    "Beneish M-Score digunakan untuk mendeteksi potensi manipulasi laba."
   ]
  },
  {
   "cell_type": "code",
   "execution_count": 4,
   "id": "576c94fa",
   "metadata": {},
   "outputs": [
    {
     "name": "stdout",
     "output_type": "stream",
     "text": [
      "\n",
      "--- Menghitung Beneish M-Score ---\n",
      "Beneish M-Score: -1.4890\n",
      "Rincian Rasio Beneish:\n",
      "  DSRI: 0.9654\n",
      "  GMI: 1.0841\n",
      "  AQI: 0.9858\n",
      "  SGI: 1.1395\n",
      "  DEPI: 1.0000\n",
      "  SGAI: 0.9654\n",
      "  LVGI: 1.0134\n",
      "  TATA: 0.1834\n",
      "Interpretasi: Kemungkinan besar perusahaan adalah manipulator laba.\n"
     ]
    }
   ],
   "source": [
    "if data_t and data_t_minus_1:\n",
    "    print(\"\\n--- Menghitung Beneish M-Score ---\")\n",
    "    m_score, m_ratios = calculate_beneish_m_score(data_t, data_t_minus_1)\n",
    "    \n",
    "    if m_score is not None:\n",
    "        print(f\"Beneish M-Score: {m_score:.4f}\")\n",
    "        print(\"Rincian Rasio Beneish:\")\n",
    "        for ratio_name, ratio_value in m_ratios.items():\n",
    "            if ratio_name != 'error':\n",
    "                print(f\"  {ratio_name}: {ratio_value:.4f}\")\n",
    "        \n",
    "        # Interpretasi Umum\n",
    "        if m_score > -1.78: # Batas umum yang sering dikutip\n",
    "            print(\"Interpretasi: Kemungkinan besar perusahaan adalah manipulator laba.\")\n",
    "        elif m_score > -2.22:\n",
    "            print(\"Interpretasi: Zona abu-abu, perlu investigasi lebih lanjut.\")\n",
    "        else:\n",
    "            print(\"Interpretasi: Kemungkinan kecil perusahaan adalah manipulator laba.\")\n",
    "    else:\n",
    "        print(\"Gagal menghitung Beneish M-Score.\")\n",
    "        if m_ratios and 'error' in m_ratios:\n",
    "            print(f\"  Alasan: {m_ratios['error']}\")\n",
    "else:\n",
    "    print(\"\\nData tidak cukup untuk menghitung Beneish M-Score (data t atau t-1 tidak berhasil dimuat).\")"
   ]
  },
  {
   "cell_type": "markdown",
   "id": "afa3dad4",
   "metadata": {},
   "source": [
    "## 5. Perhitungan Altman Z-Score\n",
    "\n",
    "Altman Z-Score digunakan untuk memprediksi probabilitas kebangkrutan perusahaan."
   ]
  },
  {
   "cell_type": "code",
   "execution_count": 5,
   "id": "4304145c",
   "metadata": {},
   "outputs": [
    {
     "name": "stdout",
     "output_type": "stream",
     "text": [
      "\n",
      "--- Menghitung Altman Z-Score ---\n",
      "Altman Z-Score (Model: Public Manufacturing (1968)): 5.8919\n",
      "Rincian Rasio Altman:\n",
      "  X1 (Working Capital / Total Assets): 0.0489\n",
      "  X2 (Retained Earnings / Total Assets): 0.6435\n",
      "  X3 (EBIT / Total Assets): 0.2246\n",
      "  X4 (Market Value of Equity / Total Liabilities): 5.2007\n",
      "  X5 (Sales / Total Assets): 1.0717\n",
      "  Catatan untuk X4: Using Book Value of Equity as proxy for Market Value\n",
      "Interpretasi Zona:\n",
      "  Perusahaan berada di 'Safe Zone'.\n",
      "  Detail Zona (dari model): {'Safe Zone': '> 2.99', 'Grey Zone': '1.81 - 2.99', 'Distress Zone': '< 1.81'}\n"
     ]
    }
   ],
   "source": [
    "if data_t:\n",
    "    print(\"\\n--- Menghitung Altman Z-Score ---\")\n",
    "    # Asumsikan perusahaan adalah manufaktur publik untuk contoh ini\n",
    "    # Ganti model_type jika perlu: \"private_manufacturing\", \"non_manufacturing_or_emerging_markets\"\n",
    "    z_model_type = \"public_manufacturing\" \n",
    "    z_score, z_ratios = calculate_altman_z_score(data_t, model_type=z_model_type)\n",
    "    \n",
    "    if z_score is not None:\n",
    "        print(f\"Altman Z-Score (Model: {z_ratios.get('model_type', z_model_type)}): {z_score:.4f}\")\n",
    "        print(\"Rincian Rasio Altman:\")\n",
    "        for ratio_name, ratio_value in z_ratios.items():\n",
    "            if ratio_name not in ['error', 'model_type', 'interpretation_zones', 'X4_note']:\n",
    "                print(f\"  {ratio_name}: {ratio_value:.4f}\")\n",
    "        if \"X4_note\" in z_ratios:\n",
    "            print(f\"  Catatan untuk X4: {z_ratios['X4_note']}\")\n",
    "            \n",
    "        zones = z_ratios.get(\"interpretation_zones\", {})\n",
    "        print(\"Interpretasi Zona:\")\n",
    "        if z_model_type == \"public_manufacturing\":\n",
    "            if z_score > 2.99: print(\"  Perusahaan berada di 'Safe Zone'.\")\n",
    "            elif z_score > 1.81: print(\"  Perusahaan berada di 'Grey Zone'.\")\n",
    "            else: print(\"  Perusahaan berada di 'Distress Zone'.\")\n",
    "        elif z_model_type == \"private_manufacturing\":\n",
    "            if z_score > 2.90: print(\"  Perusahaan berada di 'Safe Zone'.\")\n",
    "            elif z_score > 1.23: print(\"  Perusahaan berada di 'Grey Zone'.\")\n",
    "            else: print(\"  Perusahaan berada di 'Distress Zone'.\")\n",
    "        elif z_model_type == \"non_manufacturing_or_emerging_markets\":\n",
    "            if z_score > 2.60: print(\"  Perusahaan berada di 'Safe Zone'.\")\n",
    "            elif z_score > 1.10: print(\"  Perusahaan berada di 'Grey Zone'.\")\n",
    "            else: print(\"  Perusahaan berada di 'Distress Zone'.\")\n",
    "        print(f\"  Detail Zona (dari model): {zones}\")\n",
    "    else:\n",
    "        print(\"Gagal menghitung Altman Z-Score.\")\n",
    "        if z_ratios and 'error' in z_ratios:\n",
    "            print(f\"  Alasan: {z_ratios['error']}\")\n",
    "else:\n",
    "    print(\"\\nData tidak cukup untuk menghitung Altman Z-Score (data t tidak berhasil dimuat).\")"
   ]
  },
  {
   "cell_type": "markdown",
   "id": "4363dcaa",
   "metadata": {},
   "source": [
    "## 6. Perhitungan Rasio Keuangan Umum (untuk Analisis Risiko Kredit)\n",
    "\n",
    "Rasio-rasio ini memberikan gambaran umum tentang kesehatan keuangan, likuiditas, solvabilitas, dan profitabilitas perusahaan."
   ]
  },
  {
   "cell_type": "code",
   "execution_count": 6,
   "id": "a998602d",
   "metadata": {},
   "outputs": [
    {
     "name": "stdout",
     "output_type": "stream",
     "text": [
      "\n",
      "--- Menghitung Rasio Keuangan Umum ---\n",
      "Rasio Keuangan Umum:\n",
      "  Debt-to-Equity Ratio: 0.1923\n",
      "  Current Ratio: 1.3453\n",
      "  Interest Coverage Ratio: 41.2473\n",
      "  Net Profit Margin: 0.2001\n",
      "  Gross Profit Margin: 0.0971\n",
      "  Debt Ratio: 0.1613\n",
      "\n",
      "Contoh Indikasi Skor Risiko Kredit (Sangat Sederhana):\n",
      "Total Poin Skor Kredit (Contoh): 7\n",
      "Alasan Poin: D/E Rendah (0.19), Current Ratio Cukup (1.35), ICR Baik (41.25), NPM Baik (20.01%)\n",
      "Indikasi Risiko Kredit: Rendah\n"
     ]
    }
   ],
   "source": [
    "if data_t:\n",
    "    print(\"\\n--- Menghitung Rasio Keuangan Umum ---\")\n",
    "    common_ratios = calculate_common_financial_ratios(data_t)\n",
    "    \n",
    "    if \"error\" in common_ratios:\n",
    "        print(f\"Gagal menghitung rasio keuangan umum: {common_ratios['error']}\")\n",
    "    else:\n",
    "        print(\"Rasio Keuangan Umum:\")\n",
    "        for ratio_name, ratio_value in common_ratios.items():\n",
    "            if not ratio_name.endswith(\"_note\") and not ratio_name.endswith(\"_error\"):\n",
    "                # Check if ratio_value is a number before formatting\n",
    "                if isinstance(ratio_value, (int, float)):\n",
    "                    print(f\"  {ratio_name}: {ratio_value:.4f}\", end=\"\")\n",
    "                else:\n",
    "                    print(f\"  {ratio_name}: {ratio_value}\", end=\"\")\n",
    "                \n",
    "                if f\"{ratio_name}_note\" in common_ratios:\n",
    "                    print(f\" ({common_ratios[f'{ratio_name}_note']})\")\n",
    "                else:\n",
    "                    print()\n",
    "            elif ratio_name.endswith(\"_error\"):\n",
    "                 print(f\"  Error untuk {ratio_name.replace('_error', '')}: {ratio_value}\")\n",
    "        \n",
    "        # Contoh Sederhana untuk Credit Risk Score Indication\n",
    "        # Ini adalah contoh yang sangat dasar dan perlu disesuaikan dengan model risiko kredit yang lebih canggih.\n",
    "        print(\"\\nContoh Indikasi Skor Risiko Kredit (Sangat Sederhana):\")\n",
    "        score_points = 0\n",
    "        reasons = []\n",
    "\n",
    "        # Debt-to-Equity Ratio\n",
    "        dte = common_ratios.get(\"Debt-to-Equity Ratio\")\n",
    "        if isinstance(dte, float):\n",
    "            if dte < 0.5: score_points += 2; reasons.append(f\"D/E Rendah ({dte:.2f})\")\n",
    "            elif dte < 1.0: score_points += 1; reasons.append(f\"D/E Sedang ({dte:.2f})\")\n",
    "            else: score_points -=1; reasons.append(f\"D/E Tinggi ({dte:.2f})\")\n",
    "        \n",
    "        # Current Ratio\n",
    "        cr = common_ratios.get(\"Current Ratio\")\n",
    "        if isinstance(cr, float):\n",
    "            if cr > 2.0: score_points += 2; reasons.append(f\"Current Ratio Baik ({cr:.2f})\")\n",
    "            elif cr > 1.0: score_points += 1; reasons.append(f\"Current Ratio Cukup ({cr:.2f})\")\n",
    "            else: score_points -=1; reasons.append(f\"Current Ratio Rendah ({cr:.2f})\")\n",
    "\n",
    "        # Interest Coverage Ratio\n",
    "        icr = common_ratios.get(\"Interest Coverage Ratio\")\n",
    "        if isinstance(icr, float):\n",
    "            if icr == float('inf'): score_points +=2; reasons.append(f\"ICR Sangat Baik (Tak Terhingga)\") # No interest, good EBIT\n",
    "            elif icr > 5.0: score_points += 2; reasons.append(f\"ICR Baik ({icr:.2f})\")\n",
    "            elif icr > 2.0: score_points += 1; reasons.append(f\"ICR Cukup ({icr:.2f})\")\n",
    "            else: score_points -=1; reasons.append(f\"ICR Rendah ({icr:.2f})\")\n",
    "            \n",
    "        # Net Profit Margin\n",
    "        npm = common_ratios.get(\"Net Profit Margin\")\n",
    "        if isinstance(npm, float):\n",
    "            if npm > 0.1: score_points +=2; reasons.append(f\"NPM Baik ({npm:.2%})\")\n",
    "            elif npm > 0.05: score_points +=1; reasons.append(f\"NPM Cukup ({npm:.2%})\")\n",
    "            elif npm > 0: score_points +=0; reasons.append(f\"NPM Positif Rendah ({npm:.2%})\")\n",
    "            else: score_points -=1; reasons.append(f\"NPM Negatif ({npm:.2%})\")\n",
    "            \n",
    "        print(f\"Total Poin Skor Kredit (Contoh): {score_points}\")\n",
    "        print(f\"Alasan Poin: {', '.join(reasons)}\")\n",
    "        \n",
    "        if score_points >= 5:\n",
    "            print(\"Indikasi Risiko Kredit: Rendah\")\n",
    "        elif score_points >= 2:\n",
    "            print(\"Indikasi Risiko Kredit: Sedang\")\n",
    "        else:\n",
    "            print(\"Indikasi Risiko Kredit: Tinggi\")\n",
    "else:\n",
    "    print(\"\\nData tidak cukup untuk menghitung Rasio Keuangan Umum (data t tidak berhasil dimuat).\")"
   ]
  },
  {
   "cell_type": "markdown",
   "id": "eae07a59",
   "metadata": {},
   "source": [
    "## 7. Kesimpulan Analisis\n",
    "\n",
    "Berdasarkan hasil perhitungan di atas:\n",
    "*   **Beneish M-Score**: Memberikan indikasi apakah ada potensi manipulasi laba.\n",
    "*   **Altman Z-Score**: Memberikan prediksi mengenai risiko kebangkrutan.\n",
    "*   **Rasio Keuangan Umum**: Memberikan gambaran kesehatan keuangan secara umum dan dapat digunakan sebagai dasar penilaian risiko kredit.\n",
    "\n",
    "Analisis ini sebaiknya digunakan sebagai salah satu alat bantu dalam pengambilan keputusan dan dikombinasikan dengan analisis kualitatif serta informasi pasar lainnya."
   ]
  }
 ],
 "metadata": {
  "kernelspec": {
   "display_name": ".venv",
   "language": "python",
   "name": "python3"
  },
  "language_info": {
   "codemirror_mode": {
    "name": "ipython",
    "version": 3
   },
   "file_extension": ".py",
   "mimetype": "text/x-python",
   "name": "python",
   "nbconvert_exporter": "python",
   "pygments_lexer": "ipython3",
   "version": "3.11.9"
  }
 },
 "nbformat": 4,
 "nbformat_minor": 5
}
