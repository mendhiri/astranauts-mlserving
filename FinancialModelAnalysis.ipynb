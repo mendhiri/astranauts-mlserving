{
 "cells": [
  {
   "cell_type": "markdown",
   "metadata": {},
   "source": [
    "# Analisis Model Keuangan: Beneish M-Score & Altman Z-Score\n",
    "\n",
    "Notebook ini mendemonstrasikan penggunaan modul `FinancialScoreModels` untuk menghitung:\n",
    "1.  **Beneish M-Score**: Untuk mendeteksi potensi manipulasi laba.\n",
    "2.  **Altman Z-Score**: Untuk memprediksi risiko kebangkrutan perusahaan.\n",
    "\n",
    "Data input diambil dari hasil ekstraksi `SaranaModule` yang disimpan dalam format JSON."
   ]
  },
  {
   "cell_type": "code",
   "execution_count": 1,
   "metadata": {},
   "outputs": [],
   "source": [
    "import json\n",
    "from FinancialScoreModels.utils import load_sarana_output, get_company_financial_data\n",
    "from FinancialScoreModels.beneish_m_score import get_beneish_m_score_analysis\n",
    "from FinancialScoreModels.altman_z_score import get_altman_z_score_analysis\n",
    "\n",
    "# --- Konfigurasi Path File ---\n",
    "# Ganti dengan path yang sesuai jika output Sarana disimpan di lokasi berbeda\n",
    "FILE_PATH_T = \"Output/Sarana/hasil_ekstraksi_semua_dokumen.json\"\n",
    "# FILE_PATH_T_MINUS_1 = \"Output/Sarana/hasil_ekstraksi_semua_dokumen_t_minus_1.json\" # Komentari atau hapus untuk tes satu file\n",
    "FILE_PATH_T_MINUS_1 = None # Atau set ke FILE_PATH_T jika ingin eksplisit dari file yang sama\n",
    "\n",
    "# Nama file perusahaan target (harus cocok dengan 'nama_file' di JSON Sarana)\n",
    "TARGET_COMPANY_FILENAME = \"astra_lapkeu.pdf\" \n",
    "# Untuk Altman Z-Score, tentukan apakah perusahaan publik atau tidak\n",
    "# Jika publik dan Nilai Pasar Ekuitas diketahui, masukkan di market_value_equity_manual\n",
    "IS_PUBLIC_COMPANY = True # Asumsi perusahaan publik untuk contoh ini\n",
    "MARKET_VALUE_EQUITY_MANUAL = None # Contoh: 120000000000000.0 (jika diketahui, jika tidak, akan pakai nilai buku untuk X4 atau X4 jadi None)"
   ]
  },
  {
   "cell_type": "markdown",
   "metadata": {},
   "source": [
    "## 1. Memuat Data Hasil Ekstraksi Sarana"
   ]
  },
  {
   "cell_type": "code",
   "execution_count": 2,
   "metadata": {},
   "outputs": [
    {
     "name": "stdout",
     "output_type": "stream",
     "text": [
      "Berhasil memuat data untuk periode t dari: Output/Sarana/hasil_ekstraksi_semua_dokumen.json\n",
      "Data untuk periode t-1 tidak berhasil dimuat atau tidak ditemukan.\n"
     ]
    }
   ],
   "source": [
    "try:\n",
    "    data_t_list, data_t_minus_1_list = load_sarana_output(FILE_PATH_T, FILE_PATH_T_MINUS_1)\n",
    "    print(f\"Berhasil memuat data untuk periode t dari: {FILE_PATH_T}\")\n",
    "    if data_t_minus_1_list:\n",
    "        if FILE_PATH_T_MINUS_1 and FILE_PATH_T_MINUS_1 != FILE_PATH_T:\n",
    "            print(f\"Berhasil memuat data untuk periode t-1 dari file spesifik: {FILE_PATH_T_MINUS_1}\")\n",
    "        else:\n",
    "            print(f\"Berhasil memuat data untuk periode t-1 dari file utama: {FILE_PATH_T}\")\n",
    "    else:\n",
    "        print(f\"Data untuk periode t-1 tidak berhasil dimuat atau tidak ditemukan.\")\n",
    "except Exception as e:\n",
    "    print(f\"Gagal memuat data: {e}\")\n",
    "    data_t_list = []\n",
    "    data_t_minus_1_list = []"
   ]
  },
  {
   "cell_type": "markdown",
   "metadata": {},
   "source": [
    "## 2. Mengambil Data Keuangan Perusahaan Target"
   ]
  },
  {
   "cell_type": "code",
   "execution_count": 3,
   "metadata": {},
   "outputs": [
    {
     "name": "stdout",
     "output_type": "stream",
     "text": [
      "\n",
      "Data keuangan periode t untuk astra_lapkeu.pdf ditemukan.\n"
     ]
    }
   ],
   "source": [
    "company_data_t = None\n",
    "company_data_t_minus_1 = None\n",
    "\n",
    "if data_t_list:\n",
    "    company_data_t = get_company_financial_data(data_t_list, TARGET_COMPANY_FILENAME)\n",
    "    if company_data_t:\n",
    "        print(f\"\\nData keuangan periode t untuk {TARGET_COMPANY_FILENAME} ditemukan.\")\n",
    "        # print(json.dumps(company_data_t, indent=2))\n",
    "    else:\n",
    "        print(f\"\\nData keuangan periode t untuk {TARGET_COMPANY_FILENAME} TIDAK ditemukan.\")\n",
    "\n",
    "if data_t_minus_1_list:\n",
    "    company_data_t_minus_1 = get_company_financial_data(data_t_minus_1_list, TARGET_COMPANY_FILENAME)\n",
    "    if company_data_t_minus_1:\n",
    "        print(f\"Data keuangan periode t-1 untuk {TARGET_COMPANY_FILENAME} ditemukan.\")\n",
    "        # print(json.dumps(company_data_t_minus_1, indent=2))\n",
    "    else:\n",
    "        print(f\"Data keuangan periode t-1 untuk {TARGET_COMPANY_FILENAME} TIDAK ditemukan.\")"
   ]
  },
  {
   "cell_type": "markdown",
   "metadata": {},
   "source": [
    "## 3. Analisis Beneish M-Score"
   ]
  },
  {
   "cell_type": "code",
   "execution_count": 4,
   "metadata": {},
   "outputs": [
    {
     "name": "stdout",
     "output_type": "stream",
     "text": [
      "\n",
      "--- Analisis Beneish M-Score ---\n",
      "Tidak dapat melakukan analisis Beneish M-Score karena data periode t atau t-1 tidak lengkap.\n"
     ]
    }
   ],
   "source": [
    "print(\"\\n--- Analisis Beneish M-Score ---\")\n",
    "if company_data_t and company_data_t_minus_1:\n",
    "    beneish_analysis = get_beneish_m_score_analysis(company_data_t, company_data_t_minus_1)\n",
    "    print(f\"Variabel Beneish untuk {TARGET_COMPANY_FILENAME}:\")\n",
    "    for var, value in beneish_analysis.get(\"beneish_variables\", {}).items():\n",
    "        print(f\"  {var}: {value:.4f}\" if value is not None else f\"  {var}: N/A\")\n",
    "    m_score = beneish_analysis.get('m_score')\n",
    "    print(f\"Skor M: {m_score:.4f}\" if m_score is not None else \"Skor M: N/A\")\n",
    "    print(f\"Interpretasi: {beneish_analysis.get('interpretation')}\")\n",
    "else:\n",
    "    print(\"Tidak dapat melakukan analisis Beneish M-Score karena data periode t atau t-1 tidak lengkap.\")"
   ]
  },
  {
   "cell_type": "markdown",
   "metadata": {},
   "source": [
    "## 4. Analisis Altman Z-Score"
   ]
  },
  {
   "cell_type": "code",
   "execution_count": 5,
   "metadata": {},
   "outputs": [
    {
     "name": "stdout",
     "output_type": "stream",
     "text": [
      "\n",
      "--- Analisis Altman Z-Score ---\n",
      "\n",
      "Analisis Altman Z-Score untuk astra_lapkeu.pdf (Asumsi: Perusahaan Publik)\n",
      "Model: Publik Manufaktur\n",
      "Variabel Altman untuk astra_lapkeu.pdf:\n",
      "  X1: N/A\n",
      "  X2: N/A\n",
      "  X3: N/A\n",
      "  X4: N/A\n",
      "  X5: N/A\n",
      "Skor Z: N/A\n",
      "Interpretasi: Tidak dapat dihitung (data tidak lengkap atau X4 Market Value tidak ada untuk publik).\n",
      "\n",
      "Analisis Altman Z-Score untuk astra_lapkeu.pdf (Asumsi: Perusahaan Non-Publik)\n",
      "Model: Privat Manufaktur\n",
      "Variabel Altman untuk astra_lapkeu.pdf:\n",
      "  X1: N/A\n",
      "  X2: N/A\n",
      "  X3: N/A\n",
      "  X4: N/A\n",
      "  X5: N/A\n",
      "Skor Z': N/A\n",
      "Interpretasi: Tidak dapat dihitung (data tidak lengkap atau X4 Market Value tidak ada untuk publik).\n"
     ]
    }
   ],
   "source": [
    "print(\"\\n--- Analisis Altman Z-Score ---\")\n",
    "if company_data_t:\n",
    "    # Analisis sebagai perusahaan publik (default)\n",
    "    print(f\"\\nAnalisis Altman Z-Score untuk {TARGET_COMPANY_FILENAME} (Asumsi: Perusahaan Publik)\")\n",
    "    altman_public_analysis = get_altman_z_score_analysis(company_data_t, is_public_company=True, market_value_equity_manual=MARKET_VALUE_EQUITY_MANUAL)\n",
    "    print(f\"Model: {altman_public_analysis.get('model_type')}\")\n",
    "    print(f\"Variabel Altman untuk {TARGET_COMPANY_FILENAME}:\")\n",
    "    for var, value in altman_public_analysis.get(\"altman_variables\", {}).items():\n",
    "        print(f\"  {var}: {value:.4f}\" if value is not None else f\"  {var}: N/A\")\n",
    "    z_score_public = altman_public_analysis.get('z_score')\n",
    "    print(f\"Skor Z: {z_score_public:.4f}\" if z_score_public is not None else \"Skor Z: N/A\")\n",
    "    print(f\"Interpretasi: {altman_public_analysis.get('interpretation')}\")\n",
    "    \n",
    "    # Analisis sebagai perusahaan non-publik (privat)\n",
    "    print(f\"\\nAnalisis Altman Z-Score untuk {TARGET_COMPANY_FILENAME} (Asumsi: Perusahaan Non-Publik)\")\n",
    "    altman_private_analysis = get_altman_z_score_analysis(company_data_t, is_public_company=False)\n",
    "    print(f\"Model: {altman_private_analysis.get('model_type')}\")\n",
    "    print(f\"Variabel Altman untuk {TARGET_COMPANY_FILENAME}:\")\n",
    "    for var, value in altman_private_analysis.get(\"altman_variables\", {}).items():\n",
    "        print(f\"  {var}: {value:.4f}\" if value is not None else f\"  {var}: N/A\")\n",
    "    z_score_private = altman_private_analysis.get('z_score')\n",
    "    print(f\"Skor Z: {z_score_private:.4f}\" if z_score_private is not None else \"Skor Z': N/A\")\n",
    "    print(f\"Interpretasi: {altman_private_analysis.get('interpretation')}\")\n",
    "else:\n",
    "    print(\"Tidak dapat melakukan analisis Altman Z-Score karena data periode t tidak lengkap.\")"
   ]
  }
 ],
 "metadata": {
  "kernelspec": {
   "display_name": ".venv",
   "language": "python",
   "name": "python3"
  },
  "language_info": {
   "codemirror_mode": {
    "name": "ipython",
    "version": 3
   },
   "file_extension": ".py",
   "mimetype": "text/x-python",
   "name": "python",
   "nbconvert_exporter": "python",
   "pygments_lexer": "ipython3",
   "version": "3.11.9"
  }
 },
 "nbformat": 4,
 "nbformat_minor": 5
}
